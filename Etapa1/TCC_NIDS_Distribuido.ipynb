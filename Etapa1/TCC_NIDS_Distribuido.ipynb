version https://git-lfs.github.com/spec/v1
oid sha256:f922da14fdc505b7a7c679471e6057b915105f8eb19634b4adc1654dc4eafe15
size 10689
