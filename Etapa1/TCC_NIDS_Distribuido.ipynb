{
  "nbformat": 4,
  "nbformat_minor": 0,
  "metadata": {
    "colab": {
      "provenance": []
    },
    "kernelspec": {
      "name": "python3",
      "display_name": "Python 3"
    },
    "language_info": {
      "name": "python"
    }
  },
  "cells": [
    {
      "cell_type": "markdown",
      "source": [
        "# TCC - NIDS Distribuido"
      ],
      "metadata": {
        "id": "JfI-5RELuDWJ"
      }
    },
    {
      "cell_type": "markdown",
      "source": [
        "> Tarefa:\n",
        "Testar 4 Classificadores nos 5 NetFlow V2 Datasets em https://staff.itee.uq.edu.au/marius/NIDS_datasets/#RA6\n",
        "\n",
        "- [ ] Matriz de Confusão\n",
        "- [ ] Curva ROC\n",
        "- [ ] Comparar Classificadores"
      ],
      "metadata": {
        "id": "g4S0V4cJ0r0I"
      }
    },
    {
      "cell_type": "markdown",
      "source": [
        "## Imports"
      ],
      "metadata": {
        "id": "rGqFm3hs1Fwj"
      }
    },
    {
      "cell_type": "code",
      "source": [
        "!pip install heatmapz"
      ],
      "metadata": {
        "id": "1CM3L07T1zK4"
      },
      "execution_count": null,
      "outputs": []
    },
    {
      "cell_type": "code",
      "source": [
        "import pandas as pd\n",
        "import seaborn as sns\n",
        "import numpy as np\n",
        "from matplotlib import pyplot as plt\n",
        "from heatmap import heatmap, corrplot"
      ],
      "metadata": {
        "id": "vhzQ-lg91G9b"
      },
      "execution_count": null,
      "outputs": []
    },
    {
      "cell_type": "markdown",
      "source": [
        "## Datasets\n"
      ],
      "metadata": {
        "id": "qrr4FBSnwxJ_"
      }
    },
    {
      "cell_type": "markdown",
      "source": [
        "### General Characteristics"
      ],
      "metadata": {
        "id": "bLu655Wovxqi"
      }
    },
    {
      "cell_type": "markdown",
      "source": [
        "Feature | Description\n",
        "---|---\n",
        "**IPV4_SRC_ADDR** | IPv4 source address\n",
        "**IPV4_DST_ADDR** | IPv4 destination address\n",
        "**L4_SRC_PORT** | IPv4 source port number\n",
        "**L4_DST_PORT** | IPv4 destination port number\n",
        "**PROTOCOL** | IP protocol identifier byte\n",
        "**L7_PROTO** | Layer 7 protocol (numeric)\n",
        "**IN_BYTES** | Incoming number of bytes\n",
        "**OUT_BYTES** | Outgoing number of bytes\n",
        "**IN_PKTS** | Incoming number of packets\n",
        "**OUT_PKTS** | Outgoing number of packets\n",
        "**FLOW_DURATION_MILLISECONDS** | Flow duration in milliseconds\n",
        "**TCP_FLAGS** | Cumulative of all TCP flags\n",
        "**CLIENT_TCP_FLAGS** | Cumulative of all client TCP flags\n",
        "**SERVER_TCP_FLAGS** | Cumulative of all server TCP flags\n",
        "**DURATION_IN** | Client to Server stream duration (msec)\n",
        "**DURATION_OUT** | Client to Server stream duration (msec)\n",
        "**MIN_TTL** | Min flow TTL\n",
        "**MAX_TTL** | Max flow TTL\n",
        "**LONGEST_FLOW_PKT** | Longest packet (bytes) of the flow\n",
        "**SHORTEST_FLOW_PKT** | Shortest packet (bytes) of the flow\n",
        "**MIN_IP_PKT_LEN** | Len of the smallest flow IP packet observed\n",
        "**MAX_IP_PKT_LEN** | Len of the largest flow IP packet observed\n",
        "**SRC_TO_DST_SECOND_BYTES** | Src to dst Bytes/sec\n",
        "**DST_TO_SRC_SECOND_BYTES** | Dst to src Bytes/sec\n",
        "**RETRANSMITTED_IN_BYTES** | Number of retransmitted TCP flow bytes (src->dst)\n",
        "**RETRANSMITTED_IN_PKTS** | Number of retransmitted TCP flow packets rc->ds |\n",
        "**RETRANSMITTED_OUT_BYTES** | Number of retransmitted TCP flow bytes (dst->src)\n",
        "**RETRANSMITTED_OUT_PKTS** | Number of retransmitted TCP flow packets st->sr |\n",
        "**SRC_TO_DST_AVG_THROUGHPUT** | Src to dst average thpt (bps)\n",
        "**DST_TO_SRC_AVG_THROUGHPUT** | Dst to src average thpt (bps)\n",
        "**NUM_PKTS_UP_TO_128_BYTES** | Packets whose IP size <= 128\n",
        "**NUM_PKTS_128_TO_256_BYTES** | Packets whose IP size > 128 and <= 256\n",
        "**NUM_PKTS_256_TO_512_BYTES** | Packets whose IP size > 256 and <= 512\n",
        "**NUM_PKTS_512_TO_1024_BYTES** | Packets whose IP size > 512 and <= 1024\n",
        "**NUM_PKTS_1024_TO_1514_BYTES** | Packets whose IP size > 1024 and <= 1514\n",
        "**TCP_WIN_MAX_IN** | Max TCP Window (src->dst)\n",
        "**TCP_WIN_MAX_OUT** | Max TCP Window (dst->src)\n",
        "**ICMP_TYPE** | ICMP Type * 256 + ICMP code\n",
        "**ICMP_IPV4_TYPE** | ICMP Type\n",
        "**DNS_QUERY_ID** | DNS query transaction Id\n",
        "**DNS_QUERY_TYPE** | DNS query type (e.g. 1=A, 2=NS..)\n",
        "**DNS_TTL_ANSWER** | TTL of the first A record (if any)\n",
        "**FTP_COMMAND_RET_CODE** | FTP client command return code"
      ],
      "metadata": {
        "id": "64JwDnThvysL"
      }
    },
    {
      "cell_type": "markdown",
      "source": [
        "### NF-UNSW-NB15-v2"
      ],
      "metadata": {
        "id": "_T8De_60yLiA"
      }
    },
    {
      "cell_type": "markdown",
      "source": [
        "The publicly available pcaps of the ToN-IoT dataset are utilised to generate its NetFlow records, leading to a NetFlow-based IoT network dataset called NF-ToN-IoT. The total number of data flows is 16,940,496 out of which 10,841,027 (63.99%) are attack samples and 6,099,469 (36.01%), the table below lists and defines the distribution of the NF-ToN-IoT-v2 dataset."
      ],
      "metadata": {
        "id": "gU8kRgsCyvqX"
      }
    },
    {
      "cell_type": "markdown",
      "source": [
        "Class |\tCount |\tDescription\n",
        "--- | --- | ---\n",
        "Benign\t| 2295222 |\tNormal unmalicious flows\n",
        "Fuzzers |\t22310 |\tAn attack in which the attacker sends large amounts of random data which cause a system to crash and also aim to discover security vulnerabilities in a system.\n",
        "Analysis |\t2299 |\tA group that presents a variety of threats that target web applications through ports, emails and scripts.\n",
        "Backdoor |\t2169 |\tA technique that aims to bypass security mechanisms by replying to specific constructed client applications.\n",
        "DoS\t| 5794 | Denial of Service is an attempt to overload a computer system's resources with the aimof preventing access to or availability of its data.\n",
        "Exploits |\t31551 |\tAre sequences of commands controlling the behaviour of a host through a known vulnerability\n",
        "Generic | 16560 | A method that targets cryptography and causes a collision with each block-cipher.\n",
        "Reconnaissance | 12779 |\tA technique for gathering information about a network host and is also known as a probe.\n",
        "Shellcode |\t1427 |\tA malware that penetrates a code to control a victim's host.\n",
        "Worms |164 | Attacks that replicate themselves and spread to other computers."
      ],
      "metadata": {
        "id": "TWbtXIlzyjZC"
      }
    },
    {
      "cell_type": "markdown",
      "source": [
        "### NF-BoT-IoT-v2\n"
      ],
      "metadata": {
        "id": "AZ5Kwm_myPPR"
      }
    },
    {
      "cell_type": "markdown",
      "source": [
        "An IoT NetFlow-based dataset was generated by expanding the NF-BoT-IoT dataset. The features were extracted from the publicly available pcap files and the flows were labelled with their respective attack categories. The total number of data flows is 37,763,497 out of which 37,628,460 (99.64%) are attack samples and 135,037 (0.36%) are benign. There are four attack categories in the dataset, the table below represents the NF-BoT-IoT-v2 distribution of all flows."
      ],
      "metadata": {
        "id": "V1lf7ng3y0nB"
      }
    },
    {
      "cell_type": "markdown",
      "source": [
        "Class | Count | Description\n",
        "---|---|---\n",
        "Benign | 135037 | Normal unmalicious flows\n",
        "Reconnaissance | 2620999 | A technique for gathering information about a network host and is also known as a probe.\n",
        "DDoS | 18331847 | Distributed Denial of Service is an attempt similar to DoS but has multiple different distributed sources.\n",
        "DoS | 16673183 | An attempt to overload a computer system's resources with the aim of preventing access to or availability of its data.\n",
        "Theft | 2431 | A group of attacks that aims to obtain sensitive data such as data theft and keylogging"
      ],
      "metadata": {
        "id": "byGB_IptylrT"
      }
    },
    {
      "cell_type": "markdown",
      "source": [
        "## Settings"
      ],
      "metadata": {
        "id": "esM-_EM3vkd0"
      }
    },
    {
      "cell_type": "code",
      "source": [
        "#@markdown <h4>Application</h4> <hr>\n",
        "APPLICATION = \"None\" #@param [\"None\"]\n",
        "#@markdown <h4>Dataset</h4> <hr>\n",
        "DATASET = \"NF-UNSW-NB15-v2\" #@param [\"NF-UNSW-NB15-v2\", \"NF-ToN-IoT-v2\", \"NF-BoT-IoT-v2\", \"NF-CSE-CIC-IDS2018-v2\", \"NF-UQ-NIDS-v2\"]"
      ],
      "metadata": {
        "id": "RBeOQpy-uV1Z"
      },
      "execution_count": null,
      "outputs": []
    },
    {
      "cell_type": "markdown",
      "source": [
        "## Database"
      ],
      "metadata": {
        "id": "48W0ZcoUvnCt"
      }
    },
    {
      "cell_type": "code",
      "source": [
        "data = None\n",
        "if DATASET == \"NF-UNSW-NB15-v2\":\n",
        "    ...\n",
        "elif DATASET == \"NF-ToN-IoT-v2\"\n",
        "    ...\n",
        "elif DATASET == \"NF-BoT-IoT-v2\"\n",
        "    ...\n",
        "elif DATASET == \"NF-CSE-CIC-IDS2018-v2\"\n",
        "    ...\n",
        "elif DATASET == \"NF-UQ-NIDS-v2\"\n",
        "    ..."
      ],
      "metadata": {
        "id": "OyUl1cNVvxYK"
      },
      "execution_count": null,
      "outputs": []
    },
    {
      "cell_type": "markdown",
      "source": [
        "## Matriz de Confusão"
      ],
      "metadata": {
        "id": "Q51eVIAk1j1p"
      }
    },
    {
      "cell_type": "code",
      "source": [],
      "metadata": {
        "id": "TBsI269B1mLz"
      },
      "execution_count": null,
      "outputs": []
    },
    {
      "cell_type": "markdown",
      "source": [
        "## Matriz de Correlação"
      ],
      "metadata": {
        "id": "Bv8vYGj71mnL"
      }
    },
    {
      "cell_type": "code",
      "source": [
        "plt.figure(figsize=(8, 8))\n",
        "corrplot(data.corr(), size_scale=300);"
      ],
      "metadata": {
        "id": "WwItmEn91oT0"
      },
      "execution_count": null,
      "outputs": []
    }
  ]
}